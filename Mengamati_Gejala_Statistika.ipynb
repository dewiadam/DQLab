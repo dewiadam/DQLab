{
  "nbformat": 4,
  "nbformat_minor": 0,
  "metadata": {
    "colab": {
      "provenance": []
    },
    "kernelspec": {
      "name": "python3",
      "display_name": "Python 3"
    },
    "language_info": {
      "name": "python"
    }
  },
  "cells": [
    {
      "cell_type": "markdown",
      "source": [
        "# **1. Pengaruh Nilai Ekstrim**\n",
        "\n",
        "Pada bagian ini kalian akan mengamati pengaruh nilai ekstrim terhadap 2 ukuran pemusatan data (mean dan median).\n",
        "\n",
        "## 📖 **Soal**\n",
        "\n",
        "7 Karyawan DQTech, diketahui mempunyai data gaji sebagai berikut\n",
        "\n",
        "<br>\n",
        "\n",
        "<table>\n",
        "        <thead>\n",
        "            <tr>\n",
        "                <th>No</th>\n",
        "                <th>Nama</th>\n",
        "                <th>Gaji (Rp)</th>\n",
        "            </tr>\n",
        "        </thead>\n",
        "        <tbody>\n",
        "            <tr>\n",
        "                <td>1</td>\n",
        "                <td>Andi Pratama</td>\n",
        "                <td>5.800.000</td>\n",
        "            </tr>\n",
        "            <tr>\n",
        "                <td>2</td>\n",
        "                <td>Budi Santoso</td>\n",
        "                <td>5.500.000</td>\n",
        "            </tr>\n",
        "            <tr>\n",
        "                <td>3</td>\n",
        "                <td>Citra Dewi</td>\n",
        "                <td>4.700.000</td>\n",
        "            </tr>\n",
        "            <tr>\n",
        "                <td>4</td>\n",
        "                <td>Dani Fadilah</td>\n",
        "                <td>6.500.000</td>\n",
        "            </tr>\n",
        "            <tr>\n",
        "                <td>5</td>\n",
        "                <td>Eka Putra</td>\n",
        "                <td>6.000.000</td>\n",
        "            </tr>\n",
        "            <tr>\n",
        "                <td>6</td>\n",
        "                <td>Fajar Hidayat</td>\n",
        "                <td>4.900.000</td>\n",
        "            </tr>\n",
        "            <tr>\n",
        "                <td>7</td>\n",
        "                <td>Gita Saraswati</td>\n",
        "                <td>5.200.000</td>\n",
        "            </tr>\n",
        "        </tbody>\n",
        "  </table>\n",
        "\n",
        "dengan menggunakan list pada Python hitunglah rata-rata gaji karyawan di DQTech!"
      ],
      "metadata": {
        "id": "_8trObBL0Ab9"
      }
    },
    {
      "cell_type": "code",
      "execution_count": 11,
      "metadata": {
        "id": "xwIG_qdzz9Va"
      },
      "outputs": [],
      "source": [
        "data_1 = [5800000, 5500000, 4700000, 6500000, 6000000, 4900000, 5200000]\n",
        "\n",
        "\n",
        "jumlah_gaji = sum(data_1)\n",
        "jumlah_karyawan = len(data_1)\n",
        "mean_1 = jumlah_gaji / jumlah_karyawan"
      ]
    },
    {
      "cell_type": "markdown",
      "source": [
        "Kemudian hitung median datanya juga ya!"
      ],
      "metadata": {
        "id": "FCwu4ZbD2rQ9"
      }
    },
    {
      "cell_type": "code",
      "source": [
        "data_1 = [5800000, 5500000, 4700000, 6500000, 6000000, 4900000, 5200000]\n",
        "\n",
        "\n",
        "median = n = len(data_1)\n",
        "median_1 = (data_1[n//2 - 1] + data_1[n//2]) / 2"
      ],
      "metadata": {
        "id": "B4FiNj3L2t7Q"
      },
      "execution_count": 15,
      "outputs": []
    },
    {
      "cell_type": "markdown",
      "source": [
        "Wah, saat ini terdapat karyawan baru bernama Cakra Negara yang memiliki gaji fantastis yakni Rp. 17.000.000, sehingga data gaji karyawan DQTech saat ini menjadi\n",
        "\n",
        "<br>\n",
        "\n",
        "<table>\n",
        "        <thead>\n",
        "            <tr>\n",
        "                <th>No</th>\n",
        "                <th>Nama</th>\n",
        "                <th>Gaji (Rp)</th>\n",
        "            </tr>\n",
        "        </thead>\n",
        "        <tbody>\n",
        "            <tr>\n",
        "                <td>1</td>\n",
        "                <td>Andi Pratama</td>\n",
        "                <td>5.800.000</td>\n",
        "            </tr>\n",
        "            <tr>\n",
        "                <td>2</td>\n",
        "                <td>Budi Santoso</td>\n",
        "                <td>5.500.000</td>\n",
        "            </tr>\n",
        "            <tr>\n",
        "                <td>3</td>\n",
        "                <td>Citra Dewi</td>\n",
        "                <td>4.700.000</td>\n",
        "            </tr>\n",
        "            <tr>\n",
        "                <td>4</td>\n",
        "                <td>Dani Fadilah</td>\n",
        "                <td>6.500.000</td>\n",
        "            </tr>\n",
        "            <tr>\n",
        "                <td>5</td>\n",
        "                <td>Eka Putra</td>\n",
        "                <td>6.000.000</td>\n",
        "            </tr>\n",
        "            <tr>\n",
        "                <td>6</td>\n",
        "                <td>Fajar Hidayat</td>\n",
        "                <td>4.900.000</td>\n",
        "            </tr>\n",
        "            <tr>\n",
        "                <td>7</td>\n",
        "                <td>Gita Saraswati</td>\n",
        "                <td>5.200.000</td>\n",
        "            </tr>\n",
        "            <tr>\n",
        "                <td>8</td>\n",
        "                <td>Cakra Negara</td>\n",
        "                <td>17.000.000</td>\n",
        "            </tr>\n",
        "        </tbody>\n",
        "  </table>\n",
        "\n",
        "Hitung kembali rata-rata gaji karyawan di DQTech saat ini!"
      ],
      "metadata": {
        "id": "BHF31hzC1orR"
      }
    },
    {
      "cell_type": "code",
      "source": [
        "data_2 = [5800000, 5500000, 4700000, 6500000, 6000000, 4900000, 5200000, 17000000]\n",
        "\n",
        "jumlah_gaji = sum(data_2)\n",
        "jumlah_karyawan = len(data_2)\n",
        "mean_2 = jumlah_gaji / jumlah_karyawan"
      ],
      "metadata": {
        "id": "FlIdGsRB2MZc"
      },
      "execution_count": 4,
      "outputs": []
    },
    {
      "cell_type": "markdown",
      "source": [
        "Kemudian hitung median data barunya juga ya!"
      ],
      "metadata": {
        "id": "3ffdnEw93ZMA"
      }
    },
    {
      "cell_type": "code",
      "source": [
        "data_2 = [5800000, 5500000, 4700000, 6500000, 6000000, 4900000, 5200000, 17000000]\n",
        "\n",
        "median_data = n = len(data_2)\n",
        "median_2 = (data_2[n//2 - 1] + data_2[n//2]) / 2"
      ],
      "metadata": {
        "id": "t0kra0sL3L5P"
      },
      "execution_count": 13,
      "outputs": []
    },
    {
      "cell_type": "markdown",
      "source": [
        "Sekarang tampilkan hasil perhitunganmu!"
      ],
      "metadata": {
        "id": "EGYF39h23cVj"
      }
    },
    {
      "cell_type": "code",
      "source": [
        "print('Data 1\\t\\tData2')\n",
        "print(f'{mean_1:.2f}\\t\\t{mean_2:.2f}')\n",
        "print(f'{median_1:.2f}\\t\\t{median_2:.2f}')"
      ],
      "metadata": {
        "id": "nvtH119Z3ei_",
        "colab": {
          "base_uri": "https://localhost:8080/"
        },
        "outputId": "a5e6e138-88c2-4e32-b5f9-5158bd30308d"
      },
      "execution_count": 14,
      "outputs": [
        {
          "output_type": "stream",
          "name": "stdout",
          "text": [
            "Data 1\t\tData2\n",
            "5514285.71\t\t6950000.00\n",
            "5600000.00\t\t6250000.00\n"
          ]
        }
      ]
    },
    {
      "cell_type": "markdown",
      "source": [
        "Apa yang terjadi dengan nilai rataan dan median data karyawan gaji sekarang? Menurutmu mengapa hal tersebut terjadi? Coba Interpretasikan hasil pengamatanmu!"
      ],
      "metadata": {
        "id": "KAKQVzwF2M6A"
      }
    },
    {
      "cell_type": "markdown",
      "source": [
        "---"
      ],
      "metadata": {
        "id": "UbVGDiFe2h9a"
      }
    },
    {
      "cell_type": "markdown",
      "source": [
        "# **2. Komparasi Simpangan Baku**\n",
        "\n",
        "Pada bagian ini kalian akan mengamati nilai penyebaran data.\n",
        "\n",
        "Simpangan baku (standard deviation) adalah ukuran statistik yang digunakan untuk mengukur sebaran atau dispersi data dalam sebuah sampel atau populasi. Simpangan baku menggambarkan sejauh mana nilai-nilai data tersebar di sekitar rata-rata (mean) dalam suatu distribusi.\n",
        "\n",
        "\\begin{equation}\n",
        "\\sigma = \\sqrt{\\frac{\\sum{(x - \\mu)^2}}{N}}\n",
        "\\end{equation}\n",
        "\n",
        "* σ adalah simpangan baku.\n",
        "* 𝒙 adalah nilai data dalam sampel atau populasi.\n",
        "* μ adalah rata-rata (mean) dari data.\n",
        "* ∑ adalah simbol sigma yang menunjukkan penjumlahan.\n",
        "* 𝑵 adalah jumlah total nilai dalam sampel atau populasi.\n",
        "<br><br>"
      ],
      "metadata": {
        "id": "UwGcIATI2nQe"
      }
    },
    {
      "cell_type": "markdown",
      "source": [
        "## 📖 **Soal**\n",
        "\n",
        "Karena ketidakpastian situasi global, memaksa DQTech untuk melakukan efisiensi. Dari beberapa produk yang DQTech jual, DQTech harus mengeliminasi 1 produk. Data penjualan pada periode waktu tertentu disajikan pada list berikut :\n",
        "\n",
        "Penjualan produk A (secara kuantitas tiap bulannya)\n",
        "```\n",
        "penjualan_produk_A = [55, 49, 48, 50, 52, 47, 51, 50, 53, 48, 50, 49, 51, 46, 50]\n",
        "```\n",
        "\n",
        "Penjualan produk B (secara kuantitas tiap bulannya)\n",
        "```\n",
        "penjualan_produk_B = [80, 20, 45, 65, 30, 90, 10, 110, 60, 55, 75, 35, 48, 50, 25]\n",
        "```\n",
        "\n",
        "Coba hitung simpangan baku dari `penjualan_produk_A` dan `penjualan_produk_B` dan bantu DQTech menentukan mana produk yang sebaiknya dipertahankan? Mengapa?"
      ],
      "metadata": {
        "id": "7rQTXQlD5DMv"
      }
    }
  ]
}